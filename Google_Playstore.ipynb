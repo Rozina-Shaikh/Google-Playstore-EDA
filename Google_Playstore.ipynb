{
  "nbformat": 4,
  "nbformat_minor": 0,
  "metadata": {
    "kernelspec": {
      "display_name": "Python 3",
      "language": "python",
      "name": "python3"
    },
    "language_info": {
      "codemirror_mode": {
        "name": "ipython",
        "version": 3
      },
      "file_extension": ".py",
      "mimetype": "text/x-python",
      "name": "python",
      "nbconvert_exporter": "python",
      "pygments_lexer": "ipython3",
      "version": "3.7.4"
    },
    "toc": {
      "base_numbering": 1,
      "nav_menu": {},
      "number_sections": false,
      "sideBar": true,
      "skip_h1_title": false,
      "title_cell": "Table of Contents",
      "title_sidebar": "Contents",
      "toc_cell": false,
      "toc_position": {
        "height": "calc(100% - 180px)",
        "left": "10px",
        "top": "150px",
        "width": "307.2px"
      },
      "toc_section_display": true,
      "toc_window_display": true
    },
    "colab": {
      "name": "Google Playstore.ipynb",
      "provenance": []
    }
  },
  "cells": [
    {
      "cell_type": "markdown",
      "metadata": {
        "id": "E-zBkWH8Rcjh"
      },
      "source": [
        "# 0. Objective "
      ]
    },
    {
      "cell_type": "markdown",
      "metadata": {
        "id": "FTd1hcHuRcjk"
      },
      "source": [
        "Google Play Store team is about to launch a new feature where in certain apps that are promising are boosted in visibility. \n",
        "\n",
        "The boost will manifest in multiple ways – higher priority in recommendations sections (“Similar apps”, “You might also like”, “New and updated games”). These will also get a boost in visibility in search results. \n",
        "\n",
        "This feature will help bring more attention to newer apps that have potential. \n",
        "\n",
        "The task is to understand what makes an app perform well - size? price? category? multiple factors together?\n",
        "\n",
        "Analyze the data and present your insights in a format consumable by business – the ﬁnal output of the analysis would be presented to business as insights with supporting data/visualizations. "
      ]
    },
    {
      "cell_type": "markdown",
      "metadata": {
        "id": "LkE9Hy21Rcjl"
      },
      "source": [
        "# Loading The Data"
      ]
    },
    {
      "cell_type": "code",
      "metadata": {
        "id": "ESaIxNJKRcjm",
        "outputId": "f8e62d8e-d7a9-4165-ec83-750605122338"
      },
      "source": [
        "import pandas as pd\n",
        "import numpy as np\n",
        "\n",
        "data = pd.read_csv(\"playstore.csv\")\n",
        "\n",
        "print(data.head())"
      ],
      "execution_count": null,
      "outputs": [
        {
          "output_type": "stream",
          "text": [
            "                                                 App        Category  Rating  \\\n",
            "0     Photo Editor & Candy Camera & Grid & ScrapBook  ART_AND_DESIGN     4.1   \n",
            "1                                Coloring book moana  ART_AND_DESIGN     3.9   \n",
            "2  U Launcher Lite – FREE Live Cool Themes, Hide ...  ART_AND_DESIGN     4.7   \n",
            "3                              Sketch - Draw & Paint  ART_AND_DESIGN     4.5   \n",
            "4              Pixel Draw - Number Art Coloring Book  ART_AND_DESIGN     4.3   \n",
            "\n",
            "  Reviews     Size     Installs  Type Price Content Rating  \\\n",
            "0     159  19000.0      10,000+  Free     0       Everyone   \n",
            "1     967  14000.0     500,000+  Free     0       Everyone   \n",
            "2   87510   8700.0   5,000,000+  Free     0       Everyone   \n",
            "3  215644  25000.0  50,000,000+  Free     0           Teen   \n",
            "4     967   2800.0     100,000+  Free     0       Everyone   \n",
            "\n",
            "                      Genres      Last Updated         Current Ver  \\\n",
            "0               Art & Design   January 7, 2018               1.0.0   \n",
            "1  Art & Design;Pretend Play  January 15, 2018               2.0.0   \n",
            "2               Art & Design    August 1, 2018               1.2.4   \n",
            "3               Art & Design      June 8, 2018  Varies with device   \n",
            "4    Art & Design;Creativity     June 20, 2018                 1.1   \n",
            "\n",
            "    Android Ver  \n",
            "0  4.0.3 and up  \n",
            "1  4.0.3 and up  \n",
            "2  4.0.3 and up  \n",
            "3    4.2 and up  \n",
            "4    4.4 and up  \n"
          ],
          "name": "stdout"
        }
      ]
    },
    {
      "cell_type": "code",
      "metadata": {
        "id": "RoRrLJ1uRcjq",
        "outputId": "54d477e1-1ddc-4988-e4da-af3e65fd7b43"
      },
      "source": [
        "type(data)"
      ],
      "execution_count": null,
      "outputs": [
        {
          "output_type": "execute_result",
          "data": {
            "text/plain": [
              "pandas.core.frame.DataFrame"
            ]
          },
          "metadata": {
            "tags": []
          },
          "execution_count": 2
        }
      ]
    },
    {
      "cell_type": "code",
      "metadata": {
        "id": "rzm-TgGARcjr",
        "outputId": "ba670398-2d61-4172-eb3a-49295b33f262"
      },
      "source": [
        "data.shape"
      ],
      "execution_count": null,
      "outputs": [
        {
          "output_type": "execute_result",
          "data": {
            "text/plain": [
              "(10841, 13)"
            ]
          },
          "metadata": {
            "tags": []
          },
          "execution_count": 3
        }
      ]
    },
    {
      "cell_type": "code",
      "metadata": {
        "id": "zi9slB_sRcjr",
        "outputId": "108e9065-0e9e-4918-cc5b-fc14a8a1492d"
      },
      "source": [
        "data.describe()"
      ],
      "execution_count": null,
      "outputs": [
        {
          "output_type": "execute_result",
          "data": {
            "text/html": [
              "<div>\n",
              "<style scoped>\n",
              "    .dataframe tbody tr th:only-of-type {\n",
              "        vertical-align: middle;\n",
              "    }\n",
              "\n",
              "    .dataframe tbody tr th {\n",
              "        vertical-align: top;\n",
              "    }\n",
              "\n",
              "    .dataframe thead th {\n",
              "        text-align: right;\n",
              "    }\n",
              "</style>\n",
              "<table border=\"1\" class=\"dataframe\">\n",
              "  <thead>\n",
              "    <tr style=\"text-align: right;\">\n",
              "      <th></th>\n",
              "      <th>Rating</th>\n",
              "      <th>Size</th>\n",
              "    </tr>\n",
              "  </thead>\n",
              "  <tbody>\n",
              "    <tr>\n",
              "      <td>count</td>\n",
              "      <td>9367.000000</td>\n",
              "      <td>10841.000000</td>\n",
              "    </tr>\n",
              "    <tr>\n",
              "      <td>mean</td>\n",
              "      <td>4.193338</td>\n",
              "      <td>21516.529524</td>\n",
              "    </tr>\n",
              "    <tr>\n",
              "      <td>std</td>\n",
              "      <td>0.537431</td>\n",
              "      <td>20746.537567</td>\n",
              "    </tr>\n",
              "    <tr>\n",
              "      <td>min</td>\n",
              "      <td>1.000000</td>\n",
              "      <td>8.500000</td>\n",
              "    </tr>\n",
              "    <tr>\n",
              "      <td>25%</td>\n",
              "      <td>4.000000</td>\n",
              "      <td>5900.000000</td>\n",
              "    </tr>\n",
              "    <tr>\n",
              "      <td>50%</td>\n",
              "      <td>4.300000</td>\n",
              "      <td>18000.000000</td>\n",
              "    </tr>\n",
              "    <tr>\n",
              "      <td>75%</td>\n",
              "      <td>4.500000</td>\n",
              "      <td>26000.000000</td>\n",
              "    </tr>\n",
              "    <tr>\n",
              "      <td>max</td>\n",
              "      <td>19.000000</td>\n",
              "      <td>100000.000000</td>\n",
              "    </tr>\n",
              "  </tbody>\n",
              "</table>\n",
              "</div>"
            ],
            "text/plain": [
              "            Rating           Size\n",
              "count  9367.000000   10841.000000\n",
              "mean      4.193338   21516.529524\n",
              "std       0.537431   20746.537567\n",
              "min       1.000000       8.500000\n",
              "25%       4.000000    5900.000000\n",
              "50%       4.300000   18000.000000\n",
              "75%       4.500000   26000.000000\n",
              "max      19.000000  100000.000000"
            ]
          },
          "metadata": {
            "tags": []
          },
          "execution_count": 4
        }
      ]
    },
    {
      "cell_type": "code",
      "metadata": {
        "id": "o3xnvilwRcjt",
        "outputId": "8daad8c6-bc60-4ef8-e2c4-22be9fb46ab6"
      },
      "source": [
        "data.sample(7)"
      ],
      "execution_count": null,
      "outputs": [
        {
          "output_type": "execute_result",
          "data": {
            "text/html": [
              "<div>\n",
              "<style scoped>\n",
              "    .dataframe tbody tr th:only-of-type {\n",
              "        vertical-align: middle;\n",
              "    }\n",
              "\n",
              "    .dataframe tbody tr th {\n",
              "        vertical-align: top;\n",
              "    }\n",
              "\n",
              "    .dataframe thead th {\n",
              "        text-align: right;\n",
              "    }\n",
              "</style>\n",
              "<table border=\"1\" class=\"dataframe\">\n",
              "  <thead>\n",
              "    <tr style=\"text-align: right;\">\n",
              "      <th></th>\n",
              "      <th>App</th>\n",
              "      <th>Category</th>\n",
              "      <th>Rating</th>\n",
              "      <th>Reviews</th>\n",
              "      <th>Size</th>\n",
              "      <th>Installs</th>\n",
              "      <th>Type</th>\n",
              "      <th>Price</th>\n",
              "      <th>Content Rating</th>\n",
              "      <th>Genres</th>\n",
              "      <th>Last Updated</th>\n",
              "      <th>Current Ver</th>\n",
              "      <th>Android Ver</th>\n",
              "    </tr>\n",
              "  </thead>\n",
              "  <tbody>\n",
              "    <tr>\n",
              "      <td>3791</td>\n",
              "      <td>AP Mobile - Breaking News</td>\n",
              "      <td>NEWS_AND_MAGAZINES</td>\n",
              "      <td>4.5</td>\n",
              "      <td>76677</td>\n",
              "      <td>4600.000000</td>\n",
              "      <td>1,000,000+</td>\n",
              "      <td>Free</td>\n",
              "      <td>0</td>\n",
              "      <td>Everyone 10+</td>\n",
              "      <td>News &amp; Magazines</td>\n",
              "      <td>May 25, 2017</td>\n",
              "      <td>4.4.3</td>\n",
              "      <td>4.0 and up</td>\n",
              "    </tr>\n",
              "    <tr>\n",
              "      <td>6082</td>\n",
              "      <td>Unseen - No Last Seen</td>\n",
              "      <td>TOOLS</td>\n",
              "      <td>4.4</td>\n",
              "      <td>103909</td>\n",
              "      <td>9200.000000</td>\n",
              "      <td>5,000,000+</td>\n",
              "      <td>Free</td>\n",
              "      <td>0</td>\n",
              "      <td>Everyone</td>\n",
              "      <td>Tools</td>\n",
              "      <td>May 11, 2018</td>\n",
              "      <td>2.2.7</td>\n",
              "      <td>4.3 and up</td>\n",
              "    </tr>\n",
              "    <tr>\n",
              "      <td>6460</td>\n",
              "      <td>Myjob@BM</td>\n",
              "      <td>SOCIAL</td>\n",
              "      <td>NaN</td>\n",
              "      <td>1</td>\n",
              "      <td>21516.529524</td>\n",
              "      <td>100+</td>\n",
              "      <td>Free</td>\n",
              "      <td>0</td>\n",
              "      <td>Teen</td>\n",
              "      <td>Social</td>\n",
              "      <td>June 13, 2018</td>\n",
              "      <td>1.16.21</td>\n",
              "      <td>4.1 and up</td>\n",
              "    </tr>\n",
              "    <tr>\n",
              "      <td>5344</td>\n",
              "      <td>12 Step Meditations &amp; Sober Prayers AA NA AL-ANON</td>\n",
              "      <td>LIFESTYLE</td>\n",
              "      <td>4.7</td>\n",
              "      <td>759</td>\n",
              "      <td>15000.000000</td>\n",
              "      <td>50,000+</td>\n",
              "      <td>Free</td>\n",
              "      <td>0</td>\n",
              "      <td>Everyone 10+</td>\n",
              "      <td>Lifestyle</td>\n",
              "      <td>January 22, 2018</td>\n",
              "      <td>1.4.5</td>\n",
              "      <td>4.1 and up</td>\n",
              "    </tr>\n",
              "    <tr>\n",
              "      <td>4547</td>\n",
              "      <td>Car Parking Nissan GT-R R35 Simulator</td>\n",
              "      <td>FAMILY</td>\n",
              "      <td>3.2</td>\n",
              "      <td>513</td>\n",
              "      <td>34000.000000</td>\n",
              "      <td>100,000+</td>\n",
              "      <td>Free</td>\n",
              "      <td>0</td>\n",
              "      <td>Everyone</td>\n",
              "      <td>Simulation</td>\n",
              "      <td>December 5, 2017</td>\n",
              "      <td>1.0</td>\n",
              "      <td>4.0 and up</td>\n",
              "    </tr>\n",
              "    <tr>\n",
              "      <td>3572</td>\n",
              "      <td>pCloud: Free Cloud Storage</td>\n",
              "      <td>PRODUCTIVITY</td>\n",
              "      <td>4.3</td>\n",
              "      <td>16149</td>\n",
              "      <td>21516.529524</td>\n",
              "      <td>1,000,000+</td>\n",
              "      <td>Free</td>\n",
              "      <td>0</td>\n",
              "      <td>Everyone</td>\n",
              "      <td>Productivity</td>\n",
              "      <td>July 24, 2018</td>\n",
              "      <td>Varies with device</td>\n",
              "      <td>Varies with device</td>\n",
              "    </tr>\n",
              "    <tr>\n",
              "      <td>8383</td>\n",
              "      <td>Sharaf DG</td>\n",
              "      <td>SHOPPING</td>\n",
              "      <td>4.0</td>\n",
              "      <td>7006</td>\n",
              "      <td>12000.000000</td>\n",
              "      <td>500,000+</td>\n",
              "      <td>Free</td>\n",
              "      <td>0</td>\n",
              "      <td>Everyone</td>\n",
              "      <td>Shopping</td>\n",
              "      <td>May 12, 2018</td>\n",
              "      <td>3.10</td>\n",
              "      <td>4.4 and up</td>\n",
              "    </tr>\n",
              "  </tbody>\n",
              "</table>\n",
              "</div>"
            ],
            "text/plain": [
              "                                                    App            Category  \\\n",
              "3791                          AP Mobile - Breaking News  NEWS_AND_MAGAZINES   \n",
              "6082                              Unseen - No Last Seen               TOOLS   \n",
              "6460                                           Myjob@BM              SOCIAL   \n",
              "5344  12 Step Meditations & Sober Prayers AA NA AL-ANON           LIFESTYLE   \n",
              "4547              Car Parking Nissan GT-R R35 Simulator              FAMILY   \n",
              "3572                         pCloud: Free Cloud Storage        PRODUCTIVITY   \n",
              "8383                                          Sharaf DG            SHOPPING   \n",
              "\n",
              "      Rating Reviews          Size    Installs  Type Price Content Rating  \\\n",
              "3791     4.5   76677   4600.000000  1,000,000+  Free     0   Everyone 10+   \n",
              "6082     4.4  103909   9200.000000  5,000,000+  Free     0       Everyone   \n",
              "6460     NaN       1  21516.529524        100+  Free     0           Teen   \n",
              "5344     4.7     759  15000.000000     50,000+  Free     0   Everyone 10+   \n",
              "4547     3.2     513  34000.000000    100,000+  Free     0       Everyone   \n",
              "3572     4.3   16149  21516.529524  1,000,000+  Free     0       Everyone   \n",
              "8383     4.0    7006  12000.000000    500,000+  Free     0       Everyone   \n",
              "\n",
              "                Genres      Last Updated         Current Ver  \\\n",
              "3791  News & Magazines      May 25, 2017               4.4.3   \n",
              "6082             Tools      May 11, 2018               2.2.7   \n",
              "6460            Social     June 13, 2018             1.16.21   \n",
              "5344         Lifestyle  January 22, 2018               1.4.5   \n",
              "4547        Simulation  December 5, 2017                 1.0   \n",
              "3572      Productivity     July 24, 2018  Varies with device   \n",
              "8383          Shopping      May 12, 2018                3.10   \n",
              "\n",
              "             Android Ver  \n",
              "3791          4.0 and up  \n",
              "6082          4.3 and up  \n",
              "6460          4.1 and up  \n",
              "5344          4.1 and up  \n",
              "4547          4.0 and up  \n",
              "3572  Varies with device  \n",
              "8383          4.4 and up  "
            ]
          },
          "metadata": {
            "tags": []
          },
          "execution_count": 5
        }
      ]
    },
    {
      "cell_type": "markdown",
      "metadata": {
        "id": "ifrC_v2BRcju"
      },
      "source": [
        "# 1. Data clean up – Missing value treatment "
      ]
    },
    {
      "cell_type": "markdown",
      "metadata": {
        "id": "4L3YdhyfRcjv"
      },
      "source": [
        "### 1.a.  Drop records where rating is missing since rating is our target/study variable "
      ]
    },
    {
      "cell_type": "code",
      "metadata": {
        "id": "gV5pIvlkRcjw",
        "outputId": "d4a62b09-136b-4559-b458-35bc4c78ebfb"
      },
      "source": [
        "print(data[\"Rating\"].shape)"
      ],
      "execution_count": null,
      "outputs": [
        {
          "output_type": "stream",
          "text": [
            "(10841,)\n"
          ],
          "name": "stdout"
        }
      ]
    },
    {
      "cell_type": "code",
      "metadata": {
        "id": "tvMGK1dHRcjw",
        "outputId": "b70d0306-9297-4bda-f624-d07a91e47c5d"
      },
      "source": [
        "np.isnan(data[\"Rating\"])"
      ],
      "execution_count": null,
      "outputs": [
        {
          "output_type": "execute_result",
          "data": {
            "text/plain": [
              "0        False\n",
              "1        False\n",
              "2        False\n",
              "3        False\n",
              "4        False\n",
              "         ...  \n",
              "10836    False\n",
              "10837    False\n",
              "10838     True\n",
              "10839    False\n",
              "10840    False\n",
              "Name: Rating, Length: 10841, dtype: bool"
            ]
          },
          "metadata": {
            "tags": []
          },
          "execution_count": 7
        }
      ]
    },
    {
      "cell_type": "code",
      "metadata": {
        "id": "t7bJh3KRRcjx"
      },
      "source": [
        "data = data.dropna(subset=[\"Rating\"])"
      ],
      "execution_count": null,
      "outputs": []
    },
    {
      "cell_type": "code",
      "metadata": {
        "id": "zKKTCf8mRcjy",
        "outputId": "246a6e90-30f6-4f61-9bdc-2548934fc978"
      },
      "source": [
        "data.shape"
      ],
      "execution_count": null,
      "outputs": [
        {
          "output_type": "execute_result",
          "data": {
            "text/plain": [
              "(9367, 13)"
            ]
          },
          "metadata": {
            "tags": []
          },
          "execution_count": 9
        }
      ]
    },
    {
      "cell_type": "markdown",
      "metadata": {
        "id": "_LCD0oelRcjz"
      },
      "source": [
        "### 1.b.  Check the null values for the Android Ver column. "
      ]
    },
    {
      "cell_type": "markdown",
      "metadata": {
        "id": "R_KhF6c5Rcjz"
      },
      "source": [
        "__i. Are all 3 records having the same problem?__"
      ]
    },
    {
      "cell_type": "code",
      "metadata": {
        "id": "ucYbieGSRcj0",
        "outputId": "f8b37983-7445-43da-be68-434a7f263a0c"
      },
      "source": [
        "data[pd.isnull(data[\"Android Ver\"])]"
      ],
      "execution_count": null,
      "outputs": [
        {
          "output_type": "execute_result",
          "data": {
            "text/html": [
              "<div>\n",
              "<style scoped>\n",
              "    .dataframe tbody tr th:only-of-type {\n",
              "        vertical-align: middle;\n",
              "    }\n",
              "\n",
              "    .dataframe tbody tr th {\n",
              "        vertical-align: top;\n",
              "    }\n",
              "\n",
              "    .dataframe thead th {\n",
              "        text-align: right;\n",
              "    }\n",
              "</style>\n",
              "<table border=\"1\" class=\"dataframe\">\n",
              "  <thead>\n",
              "    <tr style=\"text-align: right;\">\n",
              "      <th></th>\n",
              "      <th>App</th>\n",
              "      <th>Category</th>\n",
              "      <th>Rating</th>\n",
              "      <th>Reviews</th>\n",
              "      <th>Size</th>\n",
              "      <th>Installs</th>\n",
              "      <th>Type</th>\n",
              "      <th>Price</th>\n",
              "      <th>Content Rating</th>\n",
              "      <th>Genres</th>\n",
              "      <th>Last Updated</th>\n",
              "      <th>Current Ver</th>\n",
              "      <th>Android Ver</th>\n",
              "    </tr>\n",
              "  </thead>\n",
              "  <tbody>\n",
              "    <tr>\n",
              "      <td>4453</td>\n",
              "      <td>[substratum] Vacuum: P</td>\n",
              "      <td>PERSONALIZATION</td>\n",
              "      <td>4.4</td>\n",
              "      <td>230</td>\n",
              "      <td>11000.000000</td>\n",
              "      <td>1,000+</td>\n",
              "      <td>Paid</td>\n",
              "      <td>$1.49</td>\n",
              "      <td>Everyone</td>\n",
              "      <td>Personalization</td>\n",
              "      <td>July 20, 2018</td>\n",
              "      <td>4.4</td>\n",
              "      <td>NaN</td>\n",
              "    </tr>\n",
              "    <tr>\n",
              "      <td>4490</td>\n",
              "      <td>Pi Dark [substratum]</td>\n",
              "      <td>PERSONALIZATION</td>\n",
              "      <td>4.5</td>\n",
              "      <td>189</td>\n",
              "      <td>2100.000000</td>\n",
              "      <td>10,000+</td>\n",
              "      <td>Free</td>\n",
              "      <td>0</td>\n",
              "      <td>Everyone</td>\n",
              "      <td>Personalization</td>\n",
              "      <td>March 27, 2018</td>\n",
              "      <td>1.1</td>\n",
              "      <td>NaN</td>\n",
              "    </tr>\n",
              "    <tr>\n",
              "      <td>10472</td>\n",
              "      <td>Life Made WI-Fi Touchscreen Photo Frame</td>\n",
              "      <td>1.9</td>\n",
              "      <td>19.0</td>\n",
              "      <td>3.0M</td>\n",
              "      <td>21516.529524</td>\n",
              "      <td>Free</td>\n",
              "      <td>0</td>\n",
              "      <td>Everyone</td>\n",
              "      <td>NaN</td>\n",
              "      <td>February 11, 2018</td>\n",
              "      <td>1.0.19</td>\n",
              "      <td>4.0 and up</td>\n",
              "      <td>NaN</td>\n",
              "    </tr>\n",
              "  </tbody>\n",
              "</table>\n",
              "</div>"
            ],
            "text/plain": [
              "                                           App         Category  Rating  \\\n",
              "4453                    [substratum] Vacuum: P  PERSONALIZATION     4.4   \n",
              "4490                      Pi Dark [substratum]  PERSONALIZATION     4.5   \n",
              "10472  Life Made WI-Fi Touchscreen Photo Frame              1.9    19.0   \n",
              "\n",
              "      Reviews          Size Installs  Type     Price Content Rating  \\\n",
              "4453      230  11000.000000   1,000+  Paid     $1.49       Everyone   \n",
              "4490      189   2100.000000  10,000+  Free         0       Everyone   \n",
              "10472    3.0M  21516.529524     Free     0  Everyone            NaN   \n",
              "\n",
              "                  Genres    Last Updated Current Ver Android Ver  \n",
              "4453     Personalization   July 20, 2018         4.4         NaN  \n",
              "4490     Personalization  March 27, 2018         1.1         NaN  \n",
              "10472  February 11, 2018          1.0.19  4.0 and up         NaN  "
            ]
          },
          "metadata": {
            "tags": []
          },
          "execution_count": 10
        }
      ]
    },
    {
      "cell_type": "markdown",
      "metadata": {
        "id": "1YtGW_kXRcj0"
      },
      "source": [
        "___ii. Drop the 3rd record i.e. record for “Life Made WIFI …” ___"
      ]
    },
    {
      "cell_type": "code",
      "metadata": {
        "id": "hXd74bHDRcj1"
      },
      "source": [
        "data.drop(data[data['App'] == \"Life Made WI-Fi Touchscreen Photo Frame\" ].index, inplace = True) "
      ],
      "execution_count": null,
      "outputs": []
    },
    {
      "cell_type": "code",
      "metadata": {
        "id": "XungL6-0Rcj1",
        "outputId": "ce7dcadb-3dda-4784-9a64-dcdc48a47d33"
      },
      "source": [
        "data[pd.isnull(data[\"Android Ver\"])]"
      ],
      "execution_count": null,
      "outputs": [
        {
          "output_type": "execute_result",
          "data": {
            "text/html": [
              "<div>\n",
              "<style scoped>\n",
              "    .dataframe tbody tr th:only-of-type {\n",
              "        vertical-align: middle;\n",
              "    }\n",
              "\n",
              "    .dataframe tbody tr th {\n",
              "        vertical-align: top;\n",
              "    }\n",
              "\n",
              "    .dataframe thead th {\n",
              "        text-align: right;\n",
              "    }\n",
              "</style>\n",
              "<table border=\"1\" class=\"dataframe\">\n",
              "  <thead>\n",
              "    <tr style=\"text-align: right;\">\n",
              "      <th></th>\n",
              "      <th>App</th>\n",
              "      <th>Category</th>\n",
              "      <th>Rating</th>\n",
              "      <th>Reviews</th>\n",
              "      <th>Size</th>\n",
              "      <th>Installs</th>\n",
              "      <th>Type</th>\n",
              "      <th>Price</th>\n",
              "      <th>Content Rating</th>\n",
              "      <th>Genres</th>\n",
              "      <th>Last Updated</th>\n",
              "      <th>Current Ver</th>\n",
              "      <th>Android Ver</th>\n",
              "    </tr>\n",
              "  </thead>\n",
              "  <tbody>\n",
              "    <tr>\n",
              "      <td>4453</td>\n",
              "      <td>[substratum] Vacuum: P</td>\n",
              "      <td>PERSONALIZATION</td>\n",
              "      <td>4.4</td>\n",
              "      <td>230</td>\n",
              "      <td>11000.0</td>\n",
              "      <td>1,000+</td>\n",
              "      <td>Paid</td>\n",
              "      <td>$1.49</td>\n",
              "      <td>Everyone</td>\n",
              "      <td>Personalization</td>\n",
              "      <td>July 20, 2018</td>\n",
              "      <td>4.4</td>\n",
              "      <td>NaN</td>\n",
              "    </tr>\n",
              "    <tr>\n",
              "      <td>4490</td>\n",
              "      <td>Pi Dark [substratum]</td>\n",
              "      <td>PERSONALIZATION</td>\n",
              "      <td>4.5</td>\n",
              "      <td>189</td>\n",
              "      <td>2100.0</td>\n",
              "      <td>10,000+</td>\n",
              "      <td>Free</td>\n",
              "      <td>0</td>\n",
              "      <td>Everyone</td>\n",
              "      <td>Personalization</td>\n",
              "      <td>March 27, 2018</td>\n",
              "      <td>1.1</td>\n",
              "      <td>NaN</td>\n",
              "    </tr>\n",
              "  </tbody>\n",
              "</table>\n",
              "</div>"
            ],
            "text/plain": [
              "                         App         Category  Rating Reviews     Size  \\\n",
              "4453  [substratum] Vacuum: P  PERSONALIZATION     4.4     230  11000.0   \n",
              "4490    Pi Dark [substratum]  PERSONALIZATION     4.5     189   2100.0   \n",
              "\n",
              "     Installs  Type  Price Content Rating           Genres    Last Updated  \\\n",
              "4453   1,000+  Paid  $1.49       Everyone  Personalization   July 20, 2018   \n",
              "4490  10,000+  Free      0       Everyone  Personalization  March 27, 2018   \n",
              "\n",
              "     Current Ver Android Ver  \n",
              "4453         4.4         NaN  \n",
              "4490         1.1         NaN  "
            ]
          },
          "metadata": {
            "tags": []
          },
          "execution_count": 12
        }
      ]
    },
    {
      "cell_type": "markdown",
      "metadata": {
        "id": "dKlbAFXHRcj2"
      },
      "source": [
        "__iii. Replace remaining missing values with the mode__"
      ]
    },
    {
      "cell_type": "code",
      "metadata": {
        "id": "dbQ140cSRcj2",
        "outputId": "2fa210fb-b8d7-4b1f-a967-6593741a9d2c"
      },
      "source": [
        "data[\"Android Ver\"].fillna(data[\"Android Ver\"].mode())"
      ],
      "execution_count": null,
      "outputs": [
        {
          "output_type": "execute_result",
          "data": {
            "text/plain": [
              "0              4.0.3 and up\n",
              "1              4.0.3 and up\n",
              "2              4.0.3 and up\n",
              "3                4.2 and up\n",
              "4                4.4 and up\n",
              "                ...        \n",
              "10834            4.1 and up\n",
              "10836            4.1 and up\n",
              "10837            4.1 and up\n",
              "10839    Varies with device\n",
              "10840    Varies with device\n",
              "Name: Android Ver, Length: 9366, dtype: object"
            ]
          },
          "metadata": {
            "tags": []
          },
          "execution_count": 13
        }
      ]
    },
    {
      "cell_type": "code",
      "metadata": {
        "id": "8M0YEbIuRcj3",
        "outputId": "a11424eb-64d7-4028-f076-0b575b7ac691"
      },
      "source": [
        "data.shape"
      ],
      "execution_count": null,
      "outputs": [
        {
          "output_type": "execute_result",
          "data": {
            "text/plain": [
              "(9366, 13)"
            ]
          },
          "metadata": {
            "tags": []
          },
          "execution_count": 14
        }
      ]
    },
    {
      "cell_type": "markdown",
      "metadata": {
        "id": "1PrDyWGSRcj3"
      },
      "source": [
        "#  2. Data clean up – correcting the data types"
      ]
    },
    {
      "cell_type": "markdown",
      "metadata": {
        "id": "dQiuOdT0Rcj4"
      },
      "source": [
        "### 2.a. Which all variables need to be brought to numeric types?"
      ]
    },
    {
      "cell_type": "markdown",
      "metadata": {
        "id": "XIlp_LZTRcj4"
      },
      "source": [
        "__Ans.__ Fields such as price,installs and review needs to be converted to numeric type."
      ]
    },
    {
      "cell_type": "code",
      "metadata": {
        "id": "pYe8gWZ2Rcj4",
        "outputId": "fdcd3ce7-4563-4d8f-a0f7-735c42fb55e8"
      },
      "source": [
        "data.dtypes"
      ],
      "execution_count": null,
      "outputs": [
        {
          "output_type": "execute_result",
          "data": {
            "text/plain": [
              "App                object\n",
              "Category           object\n",
              "Rating            float64\n",
              "Reviews            object\n",
              "Size              float64\n",
              "Installs           object\n",
              "Type               object\n",
              "Price              object\n",
              "Content Rating     object\n",
              "Genres             object\n",
              "Last Updated       object\n",
              "Current Ver        object\n",
              "Android Ver        object\n",
              "dtype: object"
            ]
          },
          "metadata": {
            "tags": []
          },
          "execution_count": 15
        }
      ]
    },
    {
      "cell_type": "markdown",
      "metadata": {
        "id": "YZRjN-qJRcj5"
      },
      "source": [
        "### 2.b. Price variable –remove $ sign and convert to float"
      ]
    },
    {
      "cell_type": "code",
      "metadata": {
        "id": "_IfElyCcRcj5",
        "outputId": "2ff5c8d3-8228-47f5-e81b-62cd84bed976"
      },
      "source": [
        "data['Price'] = data.Price.apply(lambda x: x.strip('$'))\n",
        "data['Price'] = data[['Price']].astype(float)\n",
        "\n",
        "data.dtypes"
      ],
      "execution_count": null,
      "outputs": [
        {
          "output_type": "execute_result",
          "data": {
            "text/plain": [
              "App                object\n",
              "Category           object\n",
              "Rating            float64\n",
              "Reviews            object\n",
              "Size              float64\n",
              "Installs           object\n",
              "Type               object\n",
              "Price             float64\n",
              "Content Rating     object\n",
              "Genres             object\n",
              "Last Updated       object\n",
              "Current Ver        object\n",
              "Android Ver        object\n",
              "dtype: object"
            ]
          },
          "metadata": {
            "tags": []
          },
          "execution_count": 16
        }
      ]
    },
    {
      "cell_type": "markdown",
      "metadata": {
        "id": "EYMS8s9eRcj6"
      },
      "source": [
        "### 2.c. Installs – remove ‘,’ and ‘+’ sign, convert to integer"
      ]
    },
    {
      "cell_type": "code",
      "metadata": {
        "id": "4y_H2u-7Rcj6"
      },
      "source": [
        "data['Installs'] = data.Installs.apply(lambda x: x.strip(','))\n",
        "data['Installs'] = data.Installs.apply(lambda x: x.strip('+'))\n",
        "\n",
        "data['Installs'] = data.Installs.apply(lambda x: x.replace(',',''))\n",
        "\n",
        "data['Installs'] = data[['Installs']].astype(int)"
      ],
      "execution_count": null,
      "outputs": []
    },
    {
      "cell_type": "code",
      "metadata": {
        "id": "53_fpJOTRcj7",
        "outputId": "1ce8de09-0f33-4bb1-f368-c70819f064a3"
      },
      "source": [
        "data.dtypes"
      ],
      "execution_count": null,
      "outputs": [
        {
          "output_type": "execute_result",
          "data": {
            "text/plain": [
              "App                object\n",
              "Category           object\n",
              "Rating            float64\n",
              "Reviews            object\n",
              "Size              float64\n",
              "Installs            int32\n",
              "Type               object\n",
              "Price             float64\n",
              "Content Rating     object\n",
              "Genres             object\n",
              "Last Updated       object\n",
              "Current Ver        object\n",
              "Android Ver        object\n",
              "dtype: object"
            ]
          },
          "metadata": {
            "tags": []
          },
          "execution_count": 18
        }
      ]
    },
    {
      "cell_type": "markdown",
      "metadata": {
        "id": "lmfZRD-GRcj7"
      },
      "source": [
        "### 2.d. Convert all other identified columns to numeric"
      ]
    },
    {
      "cell_type": "code",
      "metadata": {
        "id": "NPdyqsL1Rcj7"
      },
      "source": [
        "data['Rating'] = data[['Rating']].astype(float)\n",
        "data['Reviews'] = data[['Reviews']].astype(int)\n",
        "data['Size'] = data[['Size']].astype(int)"
      ],
      "execution_count": null,
      "outputs": []
    },
    {
      "cell_type": "code",
      "metadata": {
        "id": "j7L69jkXRcj8",
        "outputId": "40dfc1bf-c21b-49ef-b026-720482008ee1"
      },
      "source": [
        "data.dtypes"
      ],
      "execution_count": null,
      "outputs": [
        {
          "output_type": "execute_result",
          "data": {
            "text/plain": [
              "App                object\n",
              "Category           object\n",
              "Rating            float64\n",
              "Reviews             int32\n",
              "Size                int32\n",
              "Installs            int32\n",
              "Type               object\n",
              "Price             float64\n",
              "Content Rating     object\n",
              "Genres             object\n",
              "Last Updated       object\n",
              "Current Ver        object\n",
              "Android Ver        object\n",
              "dtype: object"
            ]
          },
          "metadata": {
            "tags": []
          },
          "execution_count": 20
        }
      ]
    },
    {
      "cell_type": "markdown",
      "metadata": {
        "id": "nkI43_MJRcj8"
      },
      "source": [
        "# 3. Sanity checks – check for the following and handle accordingly"
      ]
    },
    {
      "cell_type": "markdown",
      "metadata": {
        "id": "a6zcmc9rRcj8"
      },
      "source": [
        "### 3.a. Avg. rating should be between 1 and 5, as only these values are allowed on the playstore.          "
      ]
    },
    {
      "cell_type": "markdown",
      "metadata": {
        "id": "g6-KXAUcRcj9"
      },
      "source": [
        "__i. Are there any such records? Drop if so.__"
      ]
    },
    {
      "cell_type": "code",
      "metadata": {
        "id": "RvolkMCRRcj9",
        "outputId": "40936e03-05de-4cf7-e27f-fcb2a4c4dea5"
      },
      "source": [
        "(data['Rating'] > 5).sum()"
      ],
      "execution_count": null,
      "outputs": [
        {
          "output_type": "execute_result",
          "data": {
            "text/plain": [
              "0"
            ]
          },
          "metadata": {
            "tags": []
          },
          "execution_count": 21
        }
      ]
    },
    {
      "cell_type": "markdown",
      "metadata": {
        "id": "cUU-J7j3Rcj-"
      },
      "source": [
        "__Note:__ Since there are no such records that satisfies above condition, so we're not dropping any records further from Rating."
      ]
    },
    {
      "cell_type": "markdown",
      "metadata": {
        "id": "FVtkl5aMRcj_"
      },
      "source": [
        "### 3.b. Reviews should not be more than installs as only those who installed can review the app.          "
      ]
    },
    {
      "cell_type": "markdown",
      "metadata": {
        "id": "mpZy3k-ERckA"
      },
      "source": [
        "__i. Are there any such records? Drop if so.__"
      ]
    },
    {
      "cell_type": "code",
      "metadata": {
        "id": "be0PVPBARckA",
        "outputId": "99bf6382-787e-41a6-c5e9-d6aa389cb328"
      },
      "source": [
        "(data['Reviews'] > data['Installs']).sum()"
      ],
      "execution_count": null,
      "outputs": [
        {
          "output_type": "execute_result",
          "data": {
            "text/plain": [
              "7"
            ]
          },
          "metadata": {
            "tags": []
          },
          "execution_count": 22
        }
      ]
    },
    {
      "cell_type": "code",
      "metadata": {
        "id": "v-51-_RcRckB"
      },
      "source": [
        "data.drop(data[data['Reviews'] > data['Installs']].index, axis=0, inplace=True)"
      ],
      "execution_count": null,
      "outputs": []
    },
    {
      "cell_type": "code",
      "metadata": {
        "id": "erqFBV8cRckC",
        "outputId": "9cbcb734-b061-4af8-dc2e-7d63a4407ae0"
      },
      "source": [
        "(data['Reviews'] > data['Installs']).sum()"
      ],
      "execution_count": null,
      "outputs": [
        {
          "output_type": "execute_result",
          "data": {
            "text/plain": [
              "0"
            ]
          },
          "metadata": {
            "tags": []
          },
          "execution_count": 24
        }
      ]
    },
    {
      "cell_type": "code",
      "metadata": {
        "id": "XnGa-YcNRckD",
        "outputId": "82e3b2b5-7e04-46f6-d019-709de04d65ab"
      },
      "source": [
        "data.shape #Checking the shape of data which ensures the records have dropped."
      ],
      "execution_count": null,
      "outputs": [
        {
          "output_type": "execute_result",
          "data": {
            "text/plain": [
              "(9359, 13)"
            ]
          },
          "metadata": {
            "tags": []
          },
          "execution_count": 25
        }
      ]
    },
    {
      "cell_type": "markdown",
      "metadata": {
        "id": "G2cblpmLRckE"
      },
      "source": [
        "# 4. Identify and handle outliers –"
      ]
    },
    {
      "cell_type": "markdown",
      "metadata": {
        "id": "NQQ1YZmdRckE"
      },
      "source": [
        "### 4.a. Price column"
      ]
    },
    {
      "cell_type": "markdown",
      "metadata": {
        "id": "ansx780LRckF"
      },
      "source": [
        "__i. Make suitable plot to identify outliers in price__"
      ]
    },
    {
      "cell_type": "code",
      "metadata": {
        "id": "dhbwm_bhRckF"
      },
      "source": [
        "import seaborn as sns\n",
        "\n",
        "sns.boxplot(x=data[\"Price\"],data=data);"
      ],
      "execution_count": null,
      "outputs": []
    },
    {
      "cell_type": "markdown",
      "metadata": {
        "id": "3XV0c9OKRckG"
      },
      "source": [
        "__ii. Do you expect apps on the play store to cost $200? Check out these cases__"
      ]
    },
    {
      "cell_type": "markdown",
      "metadata": {
        "id": "X5YmYxbuRckG"
      },
      "source": [
        "__Ans.__ Yes,we can expect apps to cost $200.But, we drop such records here since it will not be useful for analysis here."
      ]
    },
    {
      "cell_type": "code",
      "metadata": {
        "id": "QWpbyJNoRckH"
      },
      "source": [
        "data.drop(data[data['Price'] > 200].index, axis=0, inplace=True)"
      ],
      "execution_count": null,
      "outputs": []
    },
    {
      "cell_type": "markdown",
      "metadata": {
        "id": "w0OyNGWuRckH"
      },
      "source": [
        "__iii. After dropping the useless records, make the suitable plot again to identify\n",
        "outliers__"
      ]
    },
    {
      "cell_type": "code",
      "metadata": {
        "id": "RMvrnEKYRckI",
        "outputId": "48208ad2-b775-45f3-a2e7-2c26df9af025"
      },
      "source": [
        "sns.boxplot(x=data[\"Price\"],data=data);"
      ],
      "execution_count": null,
      "outputs": [
        {
          "output_type": "display_data",
          "data": {
            "image/png": "[encoded data removed]",
            "text/plain": [
              "<Figure size 432x288 with 1 Axes>"
            ]
          },
          "metadata": {
            "tags": [],
            "needs_background": "light"
          }
        }
      ]
    },
    {
      "cell_type": "code",
      "metadata": {
        "id": "FEQcBCElRckJ",
        "outputId": "8d56b2cd-b0d2-44eb-c0c0-482e3aefc471"
      },
      "source": [
        "data.shape"
      ],
      "execution_count": null,
      "outputs": [
        {
          "output_type": "execute_result",
          "data": {
            "text/plain": [
              "(9344, 13)"
            ]
          },
          "metadata": {
            "tags": []
          },
          "execution_count": 29
        }
      ]
    },
    {
      "cell_type": "markdown",
      "metadata": {
        "id": "Z1hMgjOhRckJ"
      },
      "source": [
        "__iv. Limit data to records with price < $30__"
      ]
    },
    {
      "cell_type": "code",
      "metadata": {
        "id": "adzYPJD0RckK"
      },
      "source": [
        "data.drop(data[data[\"Price\"]> 30].index,axis=0,inplace=True)"
      ],
      "execution_count": null,
      "outputs": []
    },
    {
      "cell_type": "code",
      "metadata": {
        "id": "58MWmPxoRckL",
        "outputId": "745ef6f6-c2c7-40a1-e0b8-e33bf15d2e9e"
      },
      "source": [
        "data.shape"
      ],
      "execution_count": null,
      "outputs": [
        {
          "output_type": "execute_result",
          "data": {
            "text/plain": [
              "(9338, 13)"
            ]
          },
          "metadata": {
            "tags": []
          },
          "execution_count": 31
        }
      ]
    },
    {
      "cell_type": "markdown",
      "metadata": {
        "id": "yTCB21vnRckL"
      },
      "source": [
        "### 4.b. Reviews column"
      ]
    },
    {
      "cell_type": "markdown",
      "metadata": {
        "id": "lFYNQFmfRckM"
      },
      "source": [
        "__i. Make suitable plot__"
      ]
    },
    {
      "cell_type": "code",
      "metadata": {
        "id": "pKKq0CDqRckM",
        "outputId": "7850711c-ccf7-4976-f4fd-508922b11a05"
      },
      "source": [
        "sns.distplot(data[\"Reviews\"]);"
      ],
      "execution_count": null,
      "outputs": [
        {
          "output_type": "display_data",
          "data": {
            "image/png": "[encoded data removed]",
            "text/plain": [
              "<Figure size 432x288 with 1 Axes>"
            ]
          },
          "metadata": {
            "tags": [],
            "needs_background": "light"
          }
        }
      ]
    },
    {
      "cell_type": "markdown",
      "metadata": {
        "id": "0zGxzyGsRckN"
      },
      "source": [
        "__ii. Limit data to apps with < 1 Million reviews__"
      ]
    },
    {
      "cell_type": "code",
      "metadata": {
        "id": "bWPQSrWvRckO"
      },
      "source": [
        "data.drop(data[data[\"Reviews\"]>1000000].index,axis=0,inplace=True)"
      ],
      "execution_count": null,
      "outputs": []
    },
    {
      "cell_type": "code",
      "metadata": {
        "id": "xkepgqiVRckO",
        "outputId": "033dc79f-5c8f-4fb8-caab-038ba715b29f"
      },
      "source": [
        "data.shape"
      ],
      "execution_count": null,
      "outputs": [
        {
          "output_type": "execute_result",
          "data": {
            "text/plain": [
              "(8634, 13)"
            ]
          },
          "metadata": {
            "tags": []
          },
          "execution_count": 34
        }
      ]
    },
    {
      "cell_type": "code",
      "metadata": {
        "id": "2wTuLaGCRckP",
        "outputId": "f0ede8f6-1e54-4ddb-e1ba-ce76b53f6732"
      },
      "source": [
        "sns.distplot(data[\"Reviews\"]);"
      ],
      "execution_count": null,
      "outputs": [
        {
          "output_type": "display_data",
          "data": {
            "image/png": "[encoded data removed]",
            "text/plain": [
              "<Figure size 432x288 with 1 Axes>"
            ]
          },
          "metadata": {
            "tags": [],
            "needs_background": "light"
          }
        }
      ]
    },
    {
      "cell_type": "markdown",
      "metadata": {
        "id": "_3didVHCRckP"
      },
      "source": [
        "### 4.c. Installs"
      ]
    },
    {
      "cell_type": "markdown",
      "metadata": {
        "id": "AMUCxi4nRckQ"
      },
      "source": [
        "__i. What is the 95th percentile of the installs?__"
      ]
    },
    {
      "cell_type": "code",
      "metadata": {
        "id": "9ijCkfJgRckR",
        "outputId": "20c2efe0-165f-4a92-8a66-ca6ecd6d22ab"
      },
      "source": [
        "np.percentile(data[\"Installs\"],95)"
      ],
      "execution_count": null,
      "outputs": [
        {
          "output_type": "execute_result",
          "data": {
            "text/plain": [
              "10000000.0"
            ]
          },
          "metadata": {
            "tags": []
          },
          "execution_count": 36
        }
      ]
    },
    {
      "cell_type": "markdown",
      "metadata": {
        "id": "fSiVrD_sRckR"
      },
      "source": [
        "__ii. Drop records having a value more than the 95th percentile__"
      ]
    },
    {
      "cell_type": "code",
      "metadata": {
        "id": "FRFts0KvRckS"
      },
      "source": [
        "data.drop(data[data[\"Installs\"] > (np.percentile(data[\"Installs\"],95)\n",
        "                                                )].index,axis=0,inplace=True)"
      ],
      "execution_count": null,
      "outputs": []
    },
    {
      "cell_type": "code",
      "metadata": {
        "id": "DQXDHLK1RckT",
        "outputId": "bddbff44-5a47-4854-f356-0256bd838ba8"
      },
      "source": [
        "data.shape"
      ],
      "execution_count": null,
      "outputs": [
        {
          "output_type": "execute_result",
          "data": {
            "text/plain": [
              "(8435, 13)"
            ]
          },
          "metadata": {
            "tags": []
          },
          "execution_count": 38
        }
      ]
    },
    {
      "cell_type": "markdown",
      "metadata": {
        "id": "d-akJ83aRcka"
      },
      "source": [
        "# 5. What is the distribution of ratings like? (use Seaborn) More skewed towards higher/lower values?"
      ]
    },
    {
      "cell_type": "code",
      "metadata": {
        "id": "cJXiVLgoRcka",
        "outputId": "cc0b35e2-724c-4633-f389-70d9af398833"
      },
      "source": [
        "sns.distplot(data[\"Rating\"]);\n",
        "print(\"Skewness: %f\" %data[\"Rating\"].skew())\n",
        "print(\"Kurtosis: %f\" %data[\"Rating\"].kurt())"
      ],
      "execution_count": null,
      "outputs": [
        {
          "output_type": "stream",
          "text": [
            "Skewness: -1.743427\n",
            "Kurtosis: 5.153913\n"
          ],
          "name": "stdout"
        },
        {
          "output_type": "display_data",
          "data": {
            "image/png": "[encoded data removed]",
            "text/plain": [
              "<Figure size 432x288 with 1 Axes>"
            ]
          },
          "metadata": {
            "tags": [],
            "needs_background": "light"
          }
        }
      ]
    },
    {
      "cell_type": "markdown",
      "metadata": {
        "id": "pJwsj5e4Rckb"
      },
      "source": [
        "### 5.a. How do you explain this?"
      ]
    },
    {
      "cell_type": "markdown",
      "metadata": {
        "id": "uTpDpWbkRckb"
      },
      "source": [
        "__Ans.__ After plotting the distribution of Ratings,it seems like most of the data lies in the range of 4 to 4.5.The skewness is in negative."
      ]
    },
    {
      "cell_type": "markdown",
      "metadata": {
        "id": "CurTIptiRckb"
      },
      "source": [
        "### 5.b. What is the implication of this on your analysis?"
      ]
    },
    {
      "cell_type": "markdown",
      "metadata": {
        "id": "Yie6SyuKRckc"
      },
      "source": [
        "__Ans.__ Since the skewness is -1.74 the data is negatively skewed and kurtosis is 5.15 which means data is more towards the tail."
      ]
    },
    {
      "cell_type": "markdown",
      "metadata": {
        "id": "brUnmPDeRckc"
      },
      "source": [
        "# 6.What are the top Content Rating values?\n"
      ]
    },
    {
      "cell_type": "markdown",
      "metadata": {
        "id": "8Dhs6qRcRckc"
      },
      "source": [
        "### 6.a. Are there any values with very few records?"
      ]
    },
    {
      "cell_type": "code",
      "metadata": {
        "id": "2HciOepVRckd",
        "outputId": "80e7cf5d-f91d-4041-a495-665b30b7b90f"
      },
      "source": [
        "data['Content Rating'].value_counts()"
      ],
      "execution_count": null,
      "outputs": [
        {
          "output_type": "execute_result",
          "data": {
            "text/plain": [
              "Everyone           6782\n",
              "Teen                900\n",
              "Mature 17+          417\n",
              "Everyone 10+        332\n",
              "Adults only 18+       3\n",
              "Unrated               1\n",
              "Name: Content Rating, dtype: int64"
            ]
          },
          "metadata": {
            "tags": []
          },
          "execution_count": 40
        }
      ]
    },
    {
      "cell_type": "markdown",
      "metadata": {
        "id": "Dxews-HfRckd"
      },
      "source": [
        "__Ans.__ Yes, records of Unrated and Adults only 18+ have very few records."
      ]
    },
    {
      "cell_type": "markdown",
      "metadata": {
        "id": "VMO3jOmRRckd"
      },
      "source": [
        "### 6.b. If yes, drop those as they won’t help in the analysis"
      ]
    },
    {
      "cell_type": "code",
      "metadata": {
        "id": "cg-SuIuvRcke"
      },
      "source": [
        "data.drop(data[data[\"Content Rating\"] == \"Unrated\"].index,axis=0,inplace=True)"
      ],
      "execution_count": null,
      "outputs": []
    },
    {
      "cell_type": "code",
      "metadata": {
        "id": "OwvBs5cqRcke"
      },
      "source": [
        "data.drop(data[data[\"Content Rating\"] == \"Adults only 18+\"].index,axis=0,inplace=True)"
      ],
      "execution_count": null,
      "outputs": []
    },
    {
      "cell_type": "code",
      "metadata": {
        "id": "rW4rKcBlRcke",
        "outputId": "bb5af549-2551-474b-cd35-a6da9c34a6c7"
      },
      "source": [
        "data['Content Rating'].value_counts()"
      ],
      "execution_count": null,
      "outputs": [
        {
          "output_type": "execute_result",
          "data": {
            "text/plain": [
              "Everyone        6782\n",
              "Teen             900\n",
              "Mature 17+       417\n",
              "Everyone 10+     332\n",
              "Name: Content Rating, dtype: int64"
            ]
          },
          "metadata": {
            "tags": []
          },
          "execution_count": 43
        }
      ]
    },
    {
      "cell_type": "markdown",
      "metadata": {
        "id": "AKszzp1ERckg"
      },
      "source": [
        " # 7. Effect of size on rating"
      ]
    },
    {
      "cell_type": "markdown",
      "metadata": {
        "id": "ZE5X4bBNRckg"
      },
      "source": [
        "### 7.a. Make a joinplot to understand the effect of size on rating"
      ]
    },
    {
      "cell_type": "code",
      "metadata": {
        "id": "kJgwfM_2Rckh",
        "outputId": "e28aad5c-191d-4349-e445-5219390150ea"
      },
      "source": [
        "sns.jointplot(x=\"Rating\",y=\"Size\",data=data);"
      ],
      "execution_count": null,
      "outputs": [
        {
          "output_type": "display_data",
          "data": {
            "image/png": "[encoded data removed]",
            "text/plain": [
              "<Figure size 432x432 with 3 Axes>"
            ]
          },
          "metadata": {
            "tags": [],
            "needs_background": "light"
          }
        }
      ]
    },
    {
      "cell_type": "markdown",
      "metadata": {
        "id": "Th3UFXn1Rckh"
      },
      "source": [
        "### 7.b. Do you see any patterns?"
      ]
    },
    {
      "cell_type": "markdown",
      "metadata": {
        "id": "ORphTW7oRckh"
      },
      "source": [
        "__Ans.__ Yes,there is some correlation between Size and Rating."
      ]
    },
    {
      "cell_type": "markdown",
      "metadata": {
        "id": "GTdI_4AbRcki"
      },
      "source": [
        "### 7.c. How do you explain the pattern?"
      ]
    },
    {
      "cell_type": "markdown",
      "metadata": {
        "id": "j0ga0W6VRcki"
      },
      "source": [
        "__Ans.__ Data is more populated towards higher Rating and in some cases increases with increase in Size."
      ]
    },
    {
      "cell_type": "markdown",
      "metadata": {
        "id": "9J1QAo0JRcki"
      },
      "source": [
        "# 8. Effect of price on rating"
      ]
    },
    {
      "cell_type": "markdown",
      "metadata": {
        "id": "woG4CQv1Rckj"
      },
      "source": [
        "### 8.a. Make a jointplot (with regression line)"
      ]
    },
    {
      "cell_type": "code",
      "metadata": {
        "id": "X9JQkj2JRckj",
        "outputId": "571d2936-5649-4854-db16-d0603fa23e3f"
      },
      "source": [
        "sns.jointplot(x='Price',y='Rating',data=data,kind='reg');"
      ],
      "execution_count": null,
      "outputs": [
        {
          "output_type": "display_data",
          "data": {
            "image/png": "[encoded data removed]",
            "text/plain": [
              "<Figure size 432x432 with 3 Axes>"
            ]
          },
          "metadata": {
            "tags": [],
            "needs_background": "light"
          }
        }
      ]
    },
    {
      "cell_type": "markdown",
      "metadata": {
        "id": "ow6sGD9yRckk"
      },
      "source": [
        "### 8.b. What pattern do you see?"
      ]
    },
    {
      "cell_type": "markdown",
      "metadata": {
        "id": "MAM6Eu9JRckk"
      },
      "source": [
        "__Ans.__ The Rating remains in the range of 4."
      ]
    },
    {
      "cell_type": "markdown",
      "metadata": {
        "id": "IraUHVceRckl"
      },
      "source": [
        "### 8.c. How do you explain the pattern?"
      ]
    },
    {
      "cell_type": "markdown",
      "metadata": {
        "id": "kNB1OASaRckm"
      },
      "source": [
        "__Ans.__ There is positive correlation between Price and Rating."
      ]
    },
    {
      "cell_type": "markdown",
      "metadata": {
        "id": "n8_ulNNeRckm"
      },
      "source": [
        "### 8.d. Replot the data, this time with only records with price > 0"
      ]
    },
    {
      "cell_type": "code",
      "metadata": {
        "id": "siRcfkswRckn",
        "outputId": "d5cd8bf5-a8a5-491a-c1c9-fb9f55efc1f9"
      },
      "source": [
        "price = data.loc[data.Price>0]\n",
        "\n",
        "sns.jointplot(x='Price',y='Rating',data=price,kind='reg');"
      ],
      "execution_count": null,
      "outputs": [
        {
          "output_type": "display_data",
          "data": {
            "image/png": "[encoded data removed]",
            "text/plain": [
              "<Figure size 432x432 with 3 Axes>"
            ]
          },
          "metadata": {
            "tags": [],
            "needs_background": "light"
          }
        }
      ]
    },
    {
      "cell_type": "markdown",
      "metadata": {
        "id": "xr7Q-alSRcko"
      },
      "source": [
        "### 8.e. Does the pattern change?"
      ]
    },
    {
      "cell_type": "markdown",
      "metadata": {
        "id": "C5cHYoCaRcko"
      },
      "source": [
        "__Ans.__ Yes,there is a slight change in the pattern."
      ]
    },
    {
      "cell_type": "markdown",
      "metadata": {
        "id": "3Avj5x4GRckp"
      },
      "source": [
        "### 8.f. What is your overall inference on the effect of price on the rating"
      ]
    },
    {
      "cell_type": "markdown",
      "metadata": {
        "id": "Iz2hI030Rckp"
      },
      "source": [
        "__Ans.__ Data is weakly correlated."
      ]
    },
    {
      "cell_type": "markdown",
      "metadata": {
        "id": "PFBps8n4Rckq"
      },
      "source": [
        "# 9. Look at all the numeric interactions together "
      ]
    },
    {
      "cell_type": "markdown",
      "metadata": {
        "id": "pDWNSQXhRckq"
      },
      "source": [
        "### 9.a. Make a pairplort with the colulmns - 'Reviews', 'Size', 'Rating', 'Price'"
      ]
    },
    {
      "cell_type": "code",
      "metadata": {
        "id": "qStt6TxdRckr",
        "outputId": "c21d2366-2b69-444f-c4d8-705ea6de770c"
      },
      "source": [
        "sns.pairplot(data, x_vars=['Reviews','Size','Rating','Price'],y_vars=['Reviews','Size','Rating','Price']);"
      ],
      "execution_count": null,
      "outputs": [
        {
          "output_type": "display_data",
          "data": {
            "image/png": "[encoded data removed]",
            "text/plain": [
              "<Figure size 720x720 with 20 Axes>"
            ]
          },
          "metadata": {
            "tags": [],
            "needs_background": "light"
          }
        }
      ]
    },
    {
      "cell_type": "markdown",
      "metadata": {
        "id": "aCTywdnlRckr"
      },
      "source": [
        "# 10. Rating vs. content rating"
      ]
    },
    {
      "cell_type": "markdown",
      "metadata": {
        "id": "Dfo2-0G2Rcks"
      },
      "source": [
        "### 10.a. Make a bar plot displaying the rating for each content rating"
      ]
    },
    {
      "cell_type": "code",
      "metadata": {
        "id": "XzLdYDz1Rcks",
        "outputId": "4f4451c9-d271-4732-b52d-6c16eee3bae3"
      },
      "source": [
        "sns.barplot(x='Content Rating',y='Rating',data=data,palette=\"Set1\");"
      ],
      "execution_count": null,
      "outputs": [
        {
          "output_type": "display_data",
          "data": {
            "image/png": "[encoded data removed]",
            "text/plain": [
              "<Figure size 432x288 with 1 Axes>"
            ]
          },
          "metadata": {
            "tags": [],
            "needs_background": "light"
          }
        }
      ]
    },
    {
      "cell_type": "code",
      "metadata": {
        "id": "rrpTlJBzRckt",
        "outputId": "8efd2e70-28bd-4ff0-848c-605c59e6c083"
      },
      "source": [
        "sns.barplot(x='Content Rating',y='Rating',data=data,palette=\"coolwarm\",estimator=np.mean);"
      ],
      "execution_count": null,
      "outputs": [
        {
          "output_type": "display_data",
          "data": {
            "image/png": "[encoded data removed]",
            "text/plain": [
              "<Figure size 432x288 with 1 Axes>"
            ]
          },
          "metadata": {
            "tags": [],
            "needs_background": "light"
          }
        }
      ]
    },
    {
      "cell_type": "code",
      "metadata": {
        "id": "hw-RBA0FRcku",
        "outputId": "def3ee47-8cfb-472c-881f-82b6fe0f1993"
      },
      "source": [
        "sns.barplot(x='Content Rating',y='Rating',data=data,palette=\"coolwarm\",estimator=np.median);"
      ],
      "execution_count": null,
      "outputs": [
        {
          "output_type": "display_data",
          "data": {
            "image/png": "[encoded data removed]",
            "text/plain": [
              "<Figure size 432x288 with 1 Axes>"
            ]
          },
          "metadata": {
            "tags": [],
            "needs_background": "light"
          }
        }
      ]
    },
    {
      "cell_type": "code",
      "metadata": {
        "id": "yV27UfXZRckv",
        "outputId": "6c7f3188-80de-4d12-e1f2-ce22dd6cdc31"
      },
      "source": [
        "sns.boxplot(x='Content Rating',y='Rating',data=data,palette=\"coolwarm\");"
      ],
      "execution_count": null,
      "outputs": [
        {
          "output_type": "display_data",
          "data": {
            "image/png": "[encoded data removed]",
            "text/plain": [
              "<Figure size 432x288 with 1 Axes>"
            ]
          },
          "metadata": {
            "tags": [],
            "needs_background": "light"
          }
        }
      ]
    },
    {
      "cell_type": "markdown",
      "metadata": {
        "id": "VI-KI4y4Rckv"
      },
      "source": [
        "### 10.b. Which metric would you use? Mean? Median? Some other quantile?"
      ]
    },
    {
      "cell_type": "markdown",
      "metadata": {
        "id": "HpXVYxo1Rckw"
      },
      "source": [
        "__Ans.__ Median since it is giving a better estimate."
      ]
    },
    {
      "cell_type": "markdown",
      "metadata": {
        "id": "ITYYdsmJRckw"
      },
      "source": [
        "### 10.c. Choose the right metric and plot"
      ]
    },
    {
      "cell_type": "code",
      "metadata": {
        "id": "JswXqgz3Rckx",
        "outputId": "00ff195e-495b-4efa-befa-7457562f7f49"
      },
      "source": [
        "sns.barplot(x='Content Rating',y='Rating',data=data,estimator=np.median);"
      ],
      "execution_count": null,
      "outputs": [
        {
          "output_type": "display_data",
          "data": {
            "image/png": "[encoded data removed]",
            "text/plain": [
              "<Figure size 432x288 with 1 Axes>"
            ]
          },
          "metadata": {
            "tags": [],
            "needs_background": "light"
          }
        }
      ]
    },
    {
      "cell_type": "markdown",
      "metadata": {
        "id": "FgMIXcubRcky"
      },
      "source": [
        "#  11. Content rating vs. size vs. rating – 3 variables at a time"
      ]
    },
    {
      "cell_type": "markdown",
      "metadata": {
        "id": "LaVSYEuyRcky"
      },
      "source": [
        "### 11.a. Create 5 buckets (20% records in each) based on Size."
      ]
    },
    {
      "cell_type": "code",
      "metadata": {
        "id": "vrIUn28TRckz"
      },
      "source": [
        "labeldata = ['0-20','20-40','40-60','60-80','80-100']\n",
        "data['Bucket Size'] = pd.qcut(data['Size'],labels=labeldata,q=5)"
      ],
      "execution_count": null,
      "outputs": []
    },
    {
      "cell_type": "code",
      "metadata": {
        "id": "OXbg-TbqRckz",
        "outputId": "01ff9f2c-6cb2-4a49-f54a-9191b7bb2a8f"
      },
      "source": [
        "data['Bucket Size'].value_counts()"
      ],
      "execution_count": null,
      "outputs": [
        {
          "output_type": "execute_result",
          "data": {
            "text/plain": [
              "40-60     2310\n",
              "20-40     1789\n",
              "0-20      1713\n",
              "80-100    1682\n",
              "60-80      937\n",
              "Name: Bucket Size, dtype: int64"
            ]
          },
          "metadata": {
            "tags": []
          },
          "execution_count": 54
        }
      ]
    },
    {
      "cell_type": "code",
      "metadata": {
        "id": "tUkSR8mzRck0",
        "outputId": "a42310ef-edf4-4465-e101-af4a85283096"
      },
      "source": [
        "data.sample(7)"
      ],
      "execution_count": null,
      "outputs": [
        {
          "output_type": "execute_result",
          "data": {
            "text/html": [
              "<div>\n",
              "<style scoped>\n",
              "    .dataframe tbody tr th:only-of-type {\n",
              "        vertical-align: middle;\n",
              "    }\n",
              "\n",
              "    .dataframe tbody tr th {\n",
              "        vertical-align: top;\n",
              "    }\n",
              "\n",
              "    .dataframe thead th {\n",
              "        text-align: right;\n",
              "    }\n",
              "</style>\n",
              "<table border=\"1\" class=\"dataframe\">\n",
              "  <thead>\n",
              "    <tr style=\"text-align: right;\">\n",
              "      <th></th>\n",
              "      <th>App</th>\n",
              "      <th>Category</th>\n",
              "      <th>Rating</th>\n",
              "      <th>Reviews</th>\n",
              "      <th>Size</th>\n",
              "      <th>Installs</th>\n",
              "      <th>Type</th>\n",
              "      <th>Price</th>\n",
              "      <th>Content Rating</th>\n",
              "      <th>Genres</th>\n",
              "      <th>Last Updated</th>\n",
              "      <th>Current Ver</th>\n",
              "      <th>Android Ver</th>\n",
              "      <th>Bucket Size</th>\n",
              "    </tr>\n",
              "  </thead>\n",
              "  <tbody>\n",
              "    <tr>\n",
              "      <td>901</td>\n",
              "      <td>Harkins Theatres</td>\n",
              "      <td>ENTERTAINMENT</td>\n",
              "      <td>4.3</td>\n",
              "      <td>1511</td>\n",
              "      <td>12000</td>\n",
              "      <td>100000</td>\n",
              "      <td>Free</td>\n",
              "      <td>0.0</td>\n",
              "      <td>Everyone</td>\n",
              "      <td>Entertainment</td>\n",
              "      <td>June 11, 2018</td>\n",
              "      <td>2.1.1</td>\n",
              "      <td>4.1 and up</td>\n",
              "      <td>20-40</td>\n",
              "    </tr>\n",
              "    <tr>\n",
              "      <td>8552</td>\n",
              "      <td>DM HiDisk</td>\n",
              "      <td>TOOLS</td>\n",
              "      <td>2.8</td>\n",
              "      <td>54</td>\n",
              "      <td>20000</td>\n",
              "      <td>5000</td>\n",
              "      <td>Free</td>\n",
              "      <td>0.0</td>\n",
              "      <td>Everyone</td>\n",
              "      <td>Tools</td>\n",
              "      <td>June 7, 2018</td>\n",
              "      <td>1.1.2</td>\n",
              "      <td>4.0.3 and up</td>\n",
              "      <td>40-60</td>\n",
              "    </tr>\n",
              "    <tr>\n",
              "      <td>5496</td>\n",
              "      <td>Undead Assault</td>\n",
              "      <td>GAME</td>\n",
              "      <td>4.3</td>\n",
              "      <td>4704</td>\n",
              "      <td>37000</td>\n",
              "      <td>100000</td>\n",
              "      <td>Free</td>\n",
              "      <td>0.0</td>\n",
              "      <td>Everyone 10+</td>\n",
              "      <td>Arcade</td>\n",
              "      <td>November 4, 2015</td>\n",
              "      <td>1.4.6</td>\n",
              "      <td>2.3 and up</td>\n",
              "      <td>80-100</td>\n",
              "    </tr>\n",
              "    <tr>\n",
              "      <td>1768</td>\n",
              "      <td>Rolly Vortex</td>\n",
              "      <td>GAME</td>\n",
              "      <td>4.4</td>\n",
              "      <td>98123</td>\n",
              "      <td>40000</td>\n",
              "      <td>10000000</td>\n",
              "      <td>Free</td>\n",
              "      <td>0.0</td>\n",
              "      <td>Teen</td>\n",
              "      <td>Arcade</td>\n",
              "      <td>May 25, 2018</td>\n",
              "      <td>1.7.0</td>\n",
              "      <td>4.1 and up</td>\n",
              "      <td>80-100</td>\n",
              "    </tr>\n",
              "    <tr>\n",
              "      <td>4149</td>\n",
              "      <td>Offroad Car G</td>\n",
              "      <td>FAMILY</td>\n",
              "      <td>4.3</td>\n",
              "      <td>64884</td>\n",
              "      <td>37000</td>\n",
              "      <td>5000000</td>\n",
              "      <td>Free</td>\n",
              "      <td>0.0</td>\n",
              "      <td>Everyone</td>\n",
              "      <td>Simulation</td>\n",
              "      <td>July 12, 2016</td>\n",
              "      <td>1</td>\n",
              "      <td>2.3.3 and up</td>\n",
              "      <td>80-100</td>\n",
              "    </tr>\n",
              "    <tr>\n",
              "      <td>1506</td>\n",
              "      <td>Trulia Real Estate &amp; Rentals</td>\n",
              "      <td>HOUSE_AND_HOME</td>\n",
              "      <td>4.5</td>\n",
              "      <td>175293</td>\n",
              "      <td>21516</td>\n",
              "      <td>10000000</td>\n",
              "      <td>Free</td>\n",
              "      <td>0.0</td>\n",
              "      <td>Everyone</td>\n",
              "      <td>House &amp; Home</td>\n",
              "      <td>July 24, 2018</td>\n",
              "      <td>Varies with device</td>\n",
              "      <td>Varies with device</td>\n",
              "      <td>40-60</td>\n",
              "    </tr>\n",
              "    <tr>\n",
              "      <td>7797</td>\n",
              "      <td>Chest Tracker for Clash Royale</td>\n",
              "      <td>TOOLS</td>\n",
              "      <td>4.3</td>\n",
              "      <td>77717</td>\n",
              "      <td>14000</td>\n",
              "      <td>5000000</td>\n",
              "      <td>Free</td>\n",
              "      <td>0.0</td>\n",
              "      <td>Everyone</td>\n",
              "      <td>Tools</td>\n",
              "      <td>December 29, 2016</td>\n",
              "      <td>1.2.0</td>\n",
              "      <td>4.1 and up</td>\n",
              "      <td>40-60</td>\n",
              "    </tr>\n",
              "  </tbody>\n",
              "</table>\n",
              "</div>"
            ],
            "text/plain": [
              "                                 App        Category  Rating  Reviews   Size  \\\n",
              "901                 Harkins Theatres   ENTERTAINMENT     4.3     1511  12000   \n",
              "8552                       DM HiDisk           TOOLS     2.8       54  20000   \n",
              "5496                  Undead Assault            GAME     4.3     4704  37000   \n",
              "1768                    Rolly Vortex            GAME     4.4    98123  40000   \n",
              "4149                   Offroad Car G          FAMILY     4.3    64884  37000   \n",
              "1506    Trulia Real Estate & Rentals  HOUSE_AND_HOME     4.5   175293  21516   \n",
              "7797  Chest Tracker for Clash Royale           TOOLS     4.3    77717  14000   \n",
              "\n",
              "      Installs  Type  Price Content Rating         Genres       Last Updated  \\\n",
              "901     100000  Free    0.0       Everyone  Entertainment      June 11, 2018   \n",
              "8552      5000  Free    0.0       Everyone          Tools       June 7, 2018   \n",
              "5496    100000  Free    0.0   Everyone 10+         Arcade   November 4, 2015   \n",
              "1768  10000000  Free    0.0           Teen         Arcade       May 25, 2018   \n",
              "4149   5000000  Free    0.0       Everyone     Simulation      July 12, 2016   \n",
              "1506  10000000  Free    0.0       Everyone   House & Home      July 24, 2018   \n",
              "7797   5000000  Free    0.0       Everyone          Tools  December 29, 2016   \n",
              "\n",
              "             Current Ver         Android Ver Bucket Size  \n",
              "901                2.1.1          4.1 and up       20-40  \n",
              "8552               1.1.2        4.0.3 and up       40-60  \n",
              "5496               1.4.6          2.3 and up      80-100  \n",
              "1768               1.7.0          4.1 and up      80-100  \n",
              "4149                   1        2.3.3 and up      80-100  \n",
              "1506  Varies with device  Varies with device       40-60  \n",
              "7797               1.2.0          4.1 and up       40-60  "
            ]
          },
          "metadata": {
            "tags": []
          },
          "execution_count": 55
        }
      ]
    },
    {
      "cell_type": "markdown",
      "metadata": {
        "id": "FPjT7mNnRck1"
      },
      "source": [
        "### 11.b. By Content Rating vs. Size buckets, get the rating (20th percentile) for each combination"
      ]
    },
    {
      "cell_type": "code",
      "metadata": {
        "id": "ilL-oFNDRck2",
        "outputId": "ae5ddcb5-a483-462a-d237-2b3af93f5be8"
      },
      "source": [
        "ptable = pd.pivot_table(data,values='Rating',index='Bucket Size',columns='Content Rating',aggfunc=lambda x:np.quantile(x,0.2))\n",
        "ptable"
      ],
      "execution_count": null,
      "outputs": [
        {
          "output_type": "execute_result",
          "data": {
            "text/html": [
              "<div>\n",
              "<style scoped>\n",
              "    .dataframe tbody tr th:only-of-type {\n",
              "        vertical-align: middle;\n",
              "    }\n",
              "\n",
              "    .dataframe tbody tr th {\n",
              "        vertical-align: top;\n",
              "    }\n",
              "\n",
              "    .dataframe thead th {\n",
              "        text-align: right;\n",
              "    }\n",
              "</style>\n",
              "<table border=\"1\" class=\"dataframe\">\n",
              "  <thead>\n",
              "    <tr style=\"text-align: right;\">\n",
              "      <th>Content Rating</th>\n",
              "      <th>Everyone</th>\n",
              "      <th>Everyone 10+</th>\n",
              "      <th>Mature 17+</th>\n",
              "      <th>Teen</th>\n",
              "    </tr>\n",
              "    <tr>\n",
              "      <th>Bucket Size</th>\n",
              "      <th></th>\n",
              "      <th></th>\n",
              "      <th></th>\n",
              "      <th></th>\n",
              "    </tr>\n",
              "  </thead>\n",
              "  <tbody>\n",
              "    <tr>\n",
              "      <td>0-20</td>\n",
              "      <td>3.8</td>\n",
              "      <td>3.84</td>\n",
              "      <td>3.28</td>\n",
              "      <td>3.84</td>\n",
              "    </tr>\n",
              "    <tr>\n",
              "      <td>20-40</td>\n",
              "      <td>3.8</td>\n",
              "      <td>3.94</td>\n",
              "      <td>3.64</td>\n",
              "      <td>3.80</td>\n",
              "    </tr>\n",
              "    <tr>\n",
              "      <td>40-60</td>\n",
              "      <td>4.0</td>\n",
              "      <td>4.10</td>\n",
              "      <td>3.70</td>\n",
              "      <td>3.90</td>\n",
              "    </tr>\n",
              "    <tr>\n",
              "      <td>60-80</td>\n",
              "      <td>3.8</td>\n",
              "      <td>4.00</td>\n",
              "      <td>3.90</td>\n",
              "      <td>4.00</td>\n",
              "    </tr>\n",
              "    <tr>\n",
              "      <td>80-100</td>\n",
              "      <td>3.9</td>\n",
              "      <td>4.00</td>\n",
              "      <td>4.00</td>\n",
              "      <td>4.00</td>\n",
              "    </tr>\n",
              "  </tbody>\n",
              "</table>\n",
              "</div>"
            ],
            "text/plain": [
              "Content Rating  Everyone  Everyone 10+  Mature 17+  Teen\n",
              "Bucket Size                                             \n",
              "0-20                 3.8          3.84        3.28  3.84\n",
              "20-40                3.8          3.94        3.64  3.80\n",
              "40-60                4.0          4.10        3.70  3.90\n",
              "60-80                3.8          4.00        3.90  4.00\n",
              "80-100               3.9          4.00        4.00  4.00"
            ]
          },
          "metadata": {
            "tags": []
          },
          "execution_count": 56
        }
      ]
    },
    {
      "cell_type": "markdown",
      "metadata": {
        "id": "lvo9VHM9Rck3"
      },
      "source": [
        "### 11.c. Make a heatmap of this"
      ]
    },
    {
      "cell_type": "markdown",
      "metadata": {
        "id": "6ncP219FRck3"
      },
      "source": [
        "__i. Annotated__"
      ]
    },
    {
      "cell_type": "code",
      "metadata": {
        "id": "PNqkmaQLRck4",
        "outputId": "27c61c0a-a91a-45f1-dc35-e3e6cfa34df2"
      },
      "source": [
        "import matplotlib .pyplot as plt\n",
        "f,ax = plt.subplots(figsize=(5,5))\n",
        "sns.heatmap(ptable,annot=True,fmt='.1f',linewidths='.3');"
      ],
      "execution_count": null,
      "outputs": [
        {
          "output_type": "display_data",
          "data": {
            "image/png": "[encoded data removed]",
            "text/plain": [
              "<Figure size 360x360 with 2 Axes>"
            ]
          },
          "metadata": {
            "tags": [],
            "needs_background": "light"
          }
        }
      ]
    },
    {
      "cell_type": "markdown",
      "metadata": {
        "id": "h0b3dIKVRck4"
      },
      "source": [
        "__ii. Greens color map__"
      ]
    },
    {
      "cell_type": "code",
      "metadata": {
        "id": "_0qtmuzQRck6",
        "outputId": "979369c3-5c86-4153-eff7-5da06031d02c"
      },
      "source": [
        "f,ax = plt.subplots(figsize=(4,4))\n",
        "sns.heatmap(ptable,annot=True,fmt='.1f',linewidths='.3',cmap='Greens');"
      ],
      "execution_count": null,
      "outputs": [
        {
          "output_type": "display_data",
          "data": {
            "image/png": "[encoded data removed]",
            "text/plain": [
              "<Figure size 288x288 with 2 Axes>"
            ]
          },
          "metadata": {
            "tags": [],
            "needs_background": "light"
          }
        }
      ]
    },
    {
      "cell_type": "markdown",
      "metadata": {
        "id": "uI3vLYMFRck8"
      },
      "source": [
        "### 11.d. What’s your inference? Are lighter apps preferred in all categories? Heavier? Some?"
      ]
    },
    {
      "cell_type": "markdown",
      "metadata": {
        "id": "mcXRM2bkRck9"
      },
      "source": [
        "__Ans.__ The highest overall rating is 4.1, whereas the lowest is 3.3.\n",
        "As the size increases, the rating also shows a slight increase.\n",
        "The maximum ratings lies mostly in the greater size of the buckets.\n",
        "Based on the heatmaps generated, it can be easily said that heavier apps have much better ratings than lighter apps.\n",
        "Hence,Heavier apps are preferred in all categories."
      ]
    },
    {
      "cell_type": "markdown",
      "metadata": {
        "id": "YbtYv9WNRck9"
      },
      "source": [
        "__End of the Notebook.__"
      ]
    }
  ]
}